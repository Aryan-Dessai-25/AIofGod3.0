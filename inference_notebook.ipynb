{
  "metadata": {
    "kernelspec": {
      "language": "python",
      "display_name": "Python 3",
      "name": "python3"
    },
    "language_info": {
      "name": "python",
      "version": "3.10.14",
      "mimetype": "text/x-python",
      "codemirror_mode": {
        "name": "ipython",
        "version": 3
      },
      "pygments_lexer": "ipython3",
      "nbconvert_exporter": "python",
      "file_extension": ".py"
    },
    "kaggle": {
      "accelerator": "nvidiaTeslaT4",
      "dataSources": [
        {
          "sourceId": 86284,
          "databundleVersionId": 9813435,
          "sourceType": "competition"
        },
        {
          "sourceId": 9654183,
          "sourceType": "datasetVersion",
          "datasetId": 5897315
        }
      ],
      "dockerImageVersionId": 30787,
      "isInternetEnabled": true,
      "language": "python",
      "sourceType": "notebook",
      "isGpuEnabled": true
    },
    "colab": {
      "name": "badam supremacy",
      "provenance": [],
      "include_colab_link": true
    }
  },
  "nbformat_minor": 0,
  "nbformat": 4,
  "cells": [
    {
      "cell_type": "markdown",
      "metadata": {
        "id": "view-in-github",
        "colab_type": "text"
      },
      "source": [
        "<a href=\"https://colab.research.google.com/github/Aryan-Dessai-25/AIofGod3.0/blob/main/inference_notebook.ipynb\" target=\"_parent\"><img src=\"https://colab.research.google.com/assets/colab-badge.svg\" alt=\"Open In Colab\"/></a>"
      ]
    },
    {
      "source": [
        "# IMPORTANT: SOME KAGGLE DATA SOURCES ARE PRIVATE\n",
        "# RUN THIS CELL IN ORDER TO IMPORT YOUR KAGGLE DATA SOURCES.\n",
        "import kagglehub\n",
        "kagglehub.login()\n"
      ],
      "metadata": {
        "id": "_zFmG72-5sHD"
      },
      "cell_type": "code",
      "outputs": [],
      "execution_count": null
    },
    {
      "source": [
        "# IMPORTANT: RUN THIS CELL IN ORDER TO IMPORT YOUR KAGGLE DATA SOURCES,\n",
        "# THEN FEEL FREE TO DELETE THIS CELL.\n",
        "# NOTE: THIS NOTEBOOK ENVIRONMENT DIFFERS FROM KAGGLE'S PYTHON\n",
        "# ENVIRONMENT SO THERE MAY BE MISSING LIBRARIES USED BY YOUR\n",
        "# NOTEBOOK.\n",
        "\n",
        "ai_of_god_3_path = kagglehub.competition_download('ai-of-god-3')\n",
        "aryandessai_badambeyond_path = kagglehub.dataset_download('aryandessai/badambeyond')\n",
        "\n",
        "print('Data source import complete.')\n"
      ],
      "metadata": {
        "id": "01bbYvED5sHG"
      },
      "cell_type": "code",
      "outputs": [],
      "execution_count": null
    },
    {
      "cell_type": "code",
      "source": [
        "%pip install evaluate"
      ],
      "metadata": {
        "execution": {
          "iopub.status.busy": "2024-10-12T21:24:32.740955Z",
          "iopub.execute_input": "2024-10-12T21:24:32.741256Z",
          "iopub.status.idle": "2024-10-12T21:24:46.297516Z",
          "shell.execute_reply.started": "2024-10-12T21:24:32.741224Z",
          "shell.execute_reply": "2024-10-12T21:24:46.29641Z"
        },
        "trusted": true,
        "id": "hkg4-ZR35sHI"
      },
      "execution_count": null,
      "outputs": []
    },
    {
      "cell_type": "code",
      "source": [
        "%pip install jiwer"
      ],
      "metadata": {
        "execution": {
          "iopub.status.busy": "2024-10-12T21:24:46.299211Z",
          "iopub.execute_input": "2024-10-12T21:24:46.299546Z",
          "iopub.status.idle": "2024-10-12T21:25:00.098305Z",
          "shell.execute_reply.started": "2024-10-12T21:24:46.299495Z",
          "shell.execute_reply": "2024-10-12T21:25:00.097285Z"
        },
        "trusted": true,
        "id": "c1DL6bMB5sHJ"
      },
      "execution_count": null,
      "outputs": []
    },
    {
      "cell_type": "code",
      "source": [
        "import numpy as np\n",
        "import pandas as pd\n",
        "import matplotlib.pyplot as plt\n",
        "import os\n",
        "import torch\n",
        "import re\n",
        "from PIL import Image\n",
        "from torch.utils.data import Dataset, DataLoader, random_split\n",
        "from tqdm.notebook import tqdm\n",
        "from transformers import TrOCRProcessor, VisionEncoderDecoderModel\n",
        "from transformers import  Trainer, TrainingArguments\n",
        "from torch.nn.utils.rnn import pad_sequence\n",
        "from evaluate import load\n",
        "import torchvision.transforms as transforms\n",
        "import albumentations as A\n",
        "from torch.optim import AdamW\n",
        "from torch.optim.lr_scheduler import StepLR, ReduceLROnPlateau\n",
        "import wandb\n",
        "wandb.init(mode= 'disabled')"
      ],
      "metadata": {
        "execution": {
          "iopub.status.busy": "2024-10-12T21:25:00.100269Z",
          "iopub.execute_input": "2024-10-12T21:25:00.100628Z",
          "iopub.status.idle": "2024-10-12T21:25:22.046281Z",
          "shell.execute_reply.started": "2024-10-12T21:25:00.100593Z",
          "shell.execute_reply": "2024-10-12T21:25:22.045237Z"
        },
        "trusted": true,
        "id": "SuwLUrs_5sHK"
      },
      "execution_count": null,
      "outputs": []
    },
    {
      "cell_type": "code",
      "source": [
        "class cfg:\n",
        "    device='cuda' if torch.cuda.is_available() else 'cpu'\n",
        "    lr=1e-5\n",
        "    train_batch_size=2\n",
        "    eval_batch_size=2\n",
        "    num_epochs=10\n",
        "    wt_decay=0.01\n",
        "    val_ratio=0.1"
      ],
      "metadata": {
        "execution": {
          "iopub.status.busy": "2024-10-12T21:25:22.047602Z",
          "iopub.execute_input": "2024-10-12T21:25:22.048412Z",
          "iopub.status.idle": "2024-10-12T21:25:22.102142Z",
          "shell.execute_reply.started": "2024-10-12T21:25:22.048358Z",
          "shell.execute_reply": "2024-10-12T21:25:22.101021Z"
        },
        "trusted": true,
        "id": "LiBN5JJ05sHL"
      },
      "execution_count": null,
      "outputs": []
    },
    {
      "cell_type": "code",
      "source": [
        "\n",
        "class CustomDataset(Dataset):\n",
        "    def __init__(self,images,gt_text,processor,preprocess=True):\n",
        "        self.images=images\n",
        "        self.texts=gt_text\n",
        "        self.processor=processor\n",
        "        self.preprocess=preprocess\n",
        "\n",
        "        if self.preprocess:\n",
        "            self.transform = A.Compose([\n",
        "                A.OneOf([\n",
        "                    A.Rotate(limit=2, p=1.0),\n",
        "                    A.GaussNoise(var_limit=(10.0, 30.0), p=1.0),\n",
        "                    A.ElasticTransform(alpha=0.3, sigma=50.0, alpha_affine=None, p=1.0),\n",
        "                    A.OpticalDistortion(distort_limit=0.03, shift_limit=0.03, p=1.0),\n",
        "                    A.CLAHE(clip_limit=2, tile_grid_size=(4, 4), p=1.0),\n",
        "                    A.Affine(scale=(0.95, 1.05), translate_percent=(0.01, 0.01), shear=(-2, 2), p=1.0),\n",
        "                    A.Perspective(scale=(0.01, 0.03), p=1.0),\n",
        "                    A.RandomBrightnessContrast(brightness_limit=0.1, contrast_limit=0.1, p=1.0),\n",
        "                    A.GaussianBlur(blur_limit=(3, 7), p=1.0),\n",
        "                    A.GridDistortion(num_steps=3, distort_limit=0.02, p=1.0),\n",
        "                    A.HueSaturationValue(hue_shift_limit=10, sat_shift_limit=10, val_shift_limit=10, p=1.0),\n",
        "                    A.MedianBlur(blur_limit=3, p=1.0)\n",
        "                ], p=0.7),\n",
        "            ])\n",
        "        else:\n",
        "            self.transform = A.Compose([])\n",
        "\n",
        "    def __len__(self):\n",
        "        return len(self.images)\n",
        "\n",
        "    def __getitem__(self, idx):\n",
        "        image_name = self.images[idx]\n",
        "        image = Image.open(image_name)\n",
        "        text = self.texts[idx]\n",
        "\n",
        "        # Convert to RGB if RGBA\n",
        "        if image.mode == 'RGBA':\n",
        "            image = image.convert('RGB')\n",
        "\n",
        "        # Convert to grayscale (black and white)\n",
        "        if not self.preprocess:\n",
        "            image = image.convert('L')  # Convert to grayscale\n",
        "            image = np.array(image)\n",
        "            image = np.stack([image] * 3, axis=-1)  # Repeat to create 3 channels\n",
        "        else:\n",
        "            image = np.array(image)\n",
        "\n",
        "        if image.ndim == 2:\n",
        "            image = np.expand_dims(image, axis=-1)\n",
        "            image = np.repeat(image, 3, axis=-1)\n",
        "\n",
        "        image = (image * 255).astype(np.uint8)\n",
        "\n",
        "        if self.preprocess:\n",
        "            augmented = self.transform(image=image)\n",
        "            image = augmented['image']\n",
        "\n",
        "        image = Image.fromarray(image)\n",
        "        image = image.resize((256, 64), Image.BILINEAR)\n",
        "        image = np.array(image) / 255.0\n",
        "\n",
        "        if image.shape[-1] == 3:\n",
        "            image = np.transpose(image, (2, 0, 1))\n",
        "        else:\n",
        "            print(image.shape)\n",
        "\n",
        "        pixel_values = self.processor(image, return_tensors=\"pt\").pixel_values\n",
        "        pixel_values = pixel_values.squeeze()\n",
        "\n",
        "        labels = self.processor.tokenizer(text, return_tensors=\"pt\").input_ids\n",
        "        labels = labels[:, :512]\n",
        "        labels = labels.squeeze()\n",
        "\n",
        "        return {\"pixel_values\": pixel_values, \"labels\": labels}\n",
        "\n",
        ""
      ],
      "metadata": {
        "execution": {
          "iopub.status.busy": "2024-10-12T21:30:31.406666Z",
          "iopub.execute_input": "2024-10-12T21:30:31.407438Z",
          "iopub.status.idle": "2024-10-12T21:30:31.419067Z",
          "shell.execute_reply.started": "2024-10-12T21:30:31.407397Z",
          "shell.execute_reply": "2024-10-12T21:30:31.41804Z"
        },
        "trusted": true,
        "id": "RdofPOqe5sHN"
      },
      "execution_count": null,
      "outputs": []
    },
    {
      "cell_type": "code",
      "source": [
        "#deal with pading text tokens with -100 value\n",
        "def collate_fn(batch):\n",
        "    pixel_vals = [it['pixel_values'] for it in batch]\n",
        "    pixel_values=torch.stack(pixel_vals)\n",
        "\n",
        "    labels=[it['labels'] for it in batch]\n",
        "    labels=pad_sequence(labels, batch_first=True, padding_value=-100)\n",
        "\n",
        "    return {'pixel_values':pixel_values, 'labels':labels}"
      ],
      "metadata": {
        "execution": {
          "iopub.status.busy": "2024-10-12T21:30:32.385748Z",
          "iopub.execute_input": "2024-10-12T21:30:32.386433Z",
          "iopub.status.idle": "2024-10-12T21:30:32.391789Z",
          "shell.execute_reply.started": "2024-10-12T21:30:32.386394Z",
          "shell.execute_reply": "2024-10-12T21:30:32.39084Z"
        },
        "trusted": true,
        "id": "NI9uCXLf5sHP"
      },
      "execution_count": null,
      "outputs": []
    },
    {
      "cell_type": "code",
      "source": [
        "wer = load(\"wer\")\n",
        "def compute_metrics(eval_pred):\n",
        "    #processor=TTrOCRProcessor.from_pretrained(\"qantev/trocr-large-spanish\", do_rescale=False)\n",
        "    logits, labels = eval_pred\n",
        "    if isinstance(logits, tuple):\n",
        "        logits = logits[0]\n",
        "    preds = logits.argmax(-1)\n",
        "\n",
        "    decoded_preds = processor.tokenizer.batch_decode(preds, skip_special_tokens=True)\n",
        "\n",
        "    decoded_labels = []\n",
        "    for label in labels:\n",
        "        label_filtered = [token for token in label if token != -100]\n",
        "        decoded_label = processor.tokenizer.decode(label_filtered, skip_special_tokens=True)\n",
        "        decoded_labels.append(decoded_label)\n",
        "\n",
        "    wer_score = wer.compute(predictions=decoded_preds, references=decoded_labels)\n",
        "\n",
        "    return {\"wer\": wer_score}"
      ],
      "metadata": {
        "execution": {
          "iopub.status.busy": "2024-10-12T21:30:33.128006Z",
          "iopub.execute_input": "2024-10-12T21:30:33.128444Z",
          "iopub.status.idle": "2024-10-12T21:30:33.651836Z",
          "shell.execute_reply.started": "2024-10-12T21:30:33.128403Z",
          "shell.execute_reply": "2024-10-12T21:30:33.650324Z"
        },
        "trusted": true,
        "id": "Z5L7Wcgw5sHQ"
      },
      "execution_count": null,
      "outputs": []
    },
    {
      "cell_type": "code",
      "source": [
        "processor = TrOCRProcessor.from_pretrained(\"/kaggle/input/badambeyond/bsk/bskundu\", do_rescale=False)\n",
        "model = VisionEncoderDecoderModel.from_pretrained(\"/kaggle/input/badambeyond/bsk/bskundu\")\n",
        "learned_temp = torch.load(\"/kaggle/input/badambeyond/bsk/learned_temperature.pth\")[\"temperature\"]"
      ],
      "metadata": {
        "execution": {
          "iopub.status.busy": "2024-10-12T21:30:34.251917Z",
          "iopub.execute_input": "2024-10-12T21:30:34.25273Z",
          "iopub.status.idle": "2024-10-12T21:30:48.331077Z",
          "shell.execute_reply.started": "2024-10-12T21:30:34.252692Z",
          "shell.execute_reply": "2024-10-12T21:30:48.329906Z"
        },
        "trusted": true,
        "id": "8vVx36dv5sHS"
      },
      "execution_count": null,
      "outputs": []
    },
    {
      "cell_type": "code",
      "source": [
        "test_dir='/kaggle/input/ai-of-god-3/Public_data/test_images'\n",
        "test_id=[]\n",
        "test_images=[]\n",
        "for p in range(len(os.listdir(test_dir))):\n",
        "    for l in range(24):\n",
        "        test_id.append(f'P_{p+1}_L_{l+1}')\n",
        "        test_images.append(f'{test_dir}/Page_{p+1}/L_{l+1}.png')\n",
        "\n",
        "dataset = CustomDataset( test_images, [\"\"]*len(test_images), processor, preprocess=None)\n",
        "dataloader = DataLoader(dataset, batch_size=cfg.eval_batch_size, shuffle=False, collate_fn=collate_fn)\n",
        "model = model.to(cfg.device)\n",
        "model.eval()\n",
        "\n",
        "generated_texts = []\n",
        "\n",
        "with torch.no_grad():\n",
        "    for batch in dataloader:\n",
        "        pixel_values = batch[\"pixel_values\"].to(cfg.device)\n",
        "\n",
        "        # Generate predictions\n",
        "        generated_ids = model.generate(pixel_values, temperature=learned_temp)\n",
        "        generated_texts_batch = dataset.processor.batch_decode(generated_ids, skip_special_tokens=True)\n",
        "\n",
        "\n",
        "        generated_texts.extend(generated_texts_batch)"
      ],
      "metadata": {
        "execution": {
          "iopub.status.busy": "2024-10-12T21:31:13.446454Z",
          "iopub.execute_input": "2024-10-12T21:31:13.44739Z",
          "iopub.status.idle": "2024-10-12T21:31:55.340066Z",
          "shell.execute_reply.started": "2024-10-12T21:31:13.44735Z",
          "shell.execute_reply": "2024-10-12T21:31:55.338988Z"
        },
        "trusted": true,
        "id": "YeZZVLWw5sHS"
      },
      "execution_count": null,
      "outputs": []
    },
    {
      "cell_type": "code",
      "source": [
        "import re\n",
        "\n",
        "def add_space_after_punctuation(text):\n",
        "    return re.sub(r'([,.!?;:])(?!\\s|$)', r'\\1 ', text)\n"
      ],
      "metadata": {
        "id": "X0dCs0zV5sHT"
      },
      "execution_count": null,
      "outputs": []
    },
    {
      "cell_type": "code",
      "source": [
        "def post_process(s):\n",
        "    s=s.replace('ç', 'z')\n",
        "    s=s.replace('à', 'a')\n",
        "    s=s.replace('ā ', 'a')\n",
        "    s=s.replace('ō ', 'o')\n",
        "    s=s.replace('ā', 'a')\n",
        "    s=s.replace('è', 'e')\n",
        "    s=s.replace('vlt', 'ult')\n",
        "    s=s.replace('vn', 'un')\n",
        "    #s=s.replace('vno', 'uno')\n",
        "    #s=s.replace('vna', 'una')\n",
        "    s=s.replace('uu', 'uv')\n",
        "    s=s.replace('iue', 'ive')\n",
        "    s=s.replace('iuo', 'ivo')\n",
        "    s=s.replace('auo', 'avo')\n",
        "    s=s.replace('aue', 'ave')\n",
        "    s=s.replace('aui', 'avi')\n",
        "    s=s.replace('cin', 'tin')\n",
        "    s=s.replace('oui', 'ovi')\n",
        "    s=add_space_after_punctuation(s)\n",
        "    if s.startswith('\"') and s.endswith('\"'):\n",
        "        return s[1:-1]\n",
        "    return s\n",
        ""
      ],
      "metadata": {
        "id": "k2tTjdHg5sHU"
      },
      "execution_count": null,
      "outputs": []
    },
    {
      "cell_type": "code",
      "source": [
        "def replace_words(input_string):\n",
        "    replacements = {\n",
        "        #\"eft\": \"est\", #correction for words like esto, esta, este\n",
        "        \" ef \": \" es \",\n",
        "        \" defde \": \" desde \",\n",
        "        \"deft\": \"dest\", # for destos, destas\n",
        "        \" mifmo \": \" mismo \",\n",
        "        \" vna \": \" una \",\n",
        "        \" fe \": \" se \",\n",
        "        \" lof \": \" los \",\n",
        "        \" fi \": \" si \",\n",
        "        \" mifma \": \" misma \",\n",
        "        \" fu \": \" su \",\n",
        "        \" vamof \": \" vamos \",\n",
        "        \" eftoy \": \" estoy \",\n",
        "        \" rengo \": \" tengo \",\n",
        "        \" nof \": \" nos \",\n",
        "        \" afi \": \" asi \",\n",
        "        \" pvedo \": \" puedo \",\n",
        "        \" folo \": \" solo \",\n",
        "        \" foy \": \" soy \",\n",
        "        \" bveno \": \" bueno \",\n",
        "        \" nochef \": \" noches \",\n",
        "        \" fve \": \" fue \",\n",
        "        \" fer \": \" ser \",\n",
        "        \" fon \": \" son \",\n",
        "        \" defcuy \": \" descuy \",\n",
        "        \" seruir \": \" servir \",\n",
        "        \" graciaf \": \" gracias \",\n",
        "        \" ralera \": \" raleza \",\n",
        "        \" hermof\": \" hermos\",\n",
        "        \" faber \": \" saber \",\n",
        "        \" fugeto \": \" sugeto \",\n",
        "        \" obfcuro \": \" obscuro \",\n",
        "        \" vfar \": \" usar \",\n",
        "        \" vfan \": \" usan \",\n",
        "        \" fegundo \": \" segundo \",\n",
        "        \" lvnes \" : \" lunes \",\n",
        "        \" martef \": \" martes \",\n",
        "        \" prouidencia \": \" providencia \",\n",
        "        \" cafa \": \" casa \",\n",
        "        \" viuir \": \" vivir \",\n",
        "        \" adiof \": \" adios \"\n",
        "\n",
        "    }\n",
        "\n",
        "    for old, new in replacements.items():\n",
        "        input_string = input_string.replace(old, new)\n",
        "\n",
        "    return input_string\n",
        "\n"
      ],
      "metadata": {
        "id": "srUsVras5sHV"
      },
      "execution_count": null,
      "outputs": []
    },
    {
      "cell_type": "code",
      "source": [
        "for i in range(len(generated_texts)):\n",
        "    generated_texts[i]=post_process(generated_texts[i])\n",
        "    generated_texts[i]=replace_words(generated_texts[i])"
      ],
      "metadata": {
        "execution": {
          "iopub.status.busy": "2024-10-12T21:44:50.683333Z",
          "iopub.execute_input": "2024-10-12T21:44:50.683701Z",
          "iopub.status.idle": "2024-10-12T21:44:50.689885Z",
          "shell.execute_reply.started": "2024-10-12T21:44:50.683667Z",
          "shell.execute_reply": "2024-10-12T21:44:50.688967Z"
        },
        "trusted": true,
        "id": "N7j3y-Yp5sHW"
      },
      "execution_count": null,
      "outputs": []
    },
    {
      "cell_type": "code",
      "source": [
        "litc={'unique Id':test_id, 'prediction':generated_texts}\n",
        "sub=pd.DataFrame(litc)\n",
        "sub.to_csv(\"submission.csv\", index=False)"
      ],
      "metadata": {
        "id": "PLmNZ3B-5sHW"
      },
      "execution_count": null,
      "outputs": []
    }
  ]
}